{
    "cells": [
        {
            "cell_type": "markdown",
            "metadata": {},
            "source": "# Analyze precipitation data \n\nThis notebook shows you the basic steps when analyzing precipitation data in a notebook. You will learn how to load a data file to a notebook, access this data file in Object Storage, and then load the content of the data file into a `pandas` DataFrame. Furthermore, you will learn how to explore and analyze the data in the DataFrame and how to vizualize your results by using the `matplotlib` library. \n\nThis notebook runs on Python.\n\n## Table of contents\n1. [Get data](#data_set)\n\n2. [Load data](#load_data)\n\n3. [Access data](#access_data)\n\n4. [Explore data](#explore_data)\n\n5. [Plot the results](#plot_data)\n\n6. [Download the notebook](#download)\n\n7. [Summary](#summary)\n"
        },
        {
            "cell_type": "markdown",
            "metadata": {},
            "source": "<a id=\"data_set\"></a> \n## 1. Get data\nIn this notebook, you will explore and analyze historical annual precipitation data.\n\nThe raw precipitation data set is from <a href=\"http://data.un.org/\" target=\"_blank\" rel=\"noopener no referrer\">UNData</a>, an Internet search engine for statistical databases provided by the United Nations Statistics Division. You will use a curated version of this data set in this sample. The precipitation measurements are in million cubic meters.\n\nTo get the precipitation data set:\n1. Click <a href=\"https://cdsax.cloudant.com/public-samples/test/precipitation.csv\" target=\"_blank\" rel=\"noopener no referrer\">annual precipitation data set</a> to download the data in CSV format.   \n    Note: If you use Safari, right-click the link and select **Download Linked File**. The CSV file is downloaded to your `Download` folder.              \n1. Save the CSV file to your computer.\n\n"
        },
        {
            "cell_type": "markdown",
            "metadata": {},
            "source": "<a id=\"load_data\"></a>\n## 2. Load data\nYou can add the CSV file that you downloaded to this notebook by clicking the **Data** icon on the notebook action bar and dragging the file to the `Data` pane in the notebook. \nThe data file is listed on the `Data` pane and is saved in the Object Storage instance associated with your project.\n\nIn the next step, you will learn how to access files in Object Storage."
        },
        {
            "cell_type": "markdown",
            "metadata": {},
            "source": "<a id=\"access_data\"></a> \n## 3. Access data \n\n**<a href=\"http://pandas.pydata.org/\" target=\"_blank\" rel=\"noopener no referrer\">pandas</a>** is a useful Python package for managing structured data. The two primary data structures of pandas are <a href=\"http://pandas-docs.github.io/pandas-docs-travis/dsintro.html#series\" target=\"_blank\" rel=\"noopener no referrer\">`Series`</a> (1-dimensional) and <a href=\"http://pandas-docs.github.io/pandas-docs-travis/dsintro.html#dataframe\" target=\"_blank\" rel=\"noopener no referrer\">`DataFrame`</a> (2-dimensional).\n\nIn the following steps, you will load the `precipitation.csv` file into a DataFrame in memory.\n\nTo run code cells in a notebook, click Run Cell (**&#9658;**) in the notebook toolbar.  While the code in the cell is running, a `[*]` appears next to the cell. After the code has run, the `[*]` is replaced by a number indicating that the code cell is the *N*th cell to run in the notebook."
        },
        {
            "cell_type": "markdown",
            "metadata": {},
            "source": "### Insert code to access the data source\n\nTo add the code to access the `precipitation.csv` file which is stored in Object Storage, click the next code cell and select **Insert to code>pandas DataFrame** on the data file that you loaded in the `Data` pane in the notebook.\n\nThis function inserts the setup and data loading code for you. The setup code includes importing the required packages and defining a helper function. The helper function includes the Object Storage credentials to access the `precipitation.csv` file. Then, the data in the `precipitation.csv` file is loaded into a `pandas DataFrame`.\n"
        },
        {
            "cell_type": "markdown",
            "metadata": {},
            "source": "<div class=\"alert alert-block alert-info\">Note: The DataFrame that is created for you and filled with data is given a generic name. Rename the DataFrame to `precipitation_df` and run the code cell to proceed.</div>"
        },
        {
            "cell_type": "code",
            "execution_count": null,
            "metadata": {},
            "outputs": [],
            "source": ""
        },
        {
            "cell_type": "markdown",
            "metadata": {},
            "source": "<a id=\"explore_data\"></a> \n## 4. Explore data\n\nNow that your data is in memory, you can begin to explore and manipulate it.\n\nShow the first five and the last five rows of the data by using the `head()` and `tail()` methods.  Run each code cell:"
        },
        {
            "cell_type": "code",
            "execution_count": 1,
            "metadata": {},
            "outputs": [
                {
                    "ename": "NameError",
                    "evalue": "name 'precipitation_df' is not defined",
                    "output_type": "error",
                    "traceback": [
                        "\u001b[0;31m---------------------------------------------------------------------------\u001b[0m",
                        "\u001b[0;31mNameError\u001b[0m                                 Traceback (most recent call last)",
                        "\u001b[0;32m/tmp/wsuser/ipykernel_165/474613964.py\u001b[0m in \u001b[0;36m<module>\u001b[0;34m\u001b[0m\n\u001b[0;32m----> 1\u001b[0;31m \u001b[0mprecipitation_df\u001b[0m\u001b[0;34m.\u001b[0m\u001b[0mhead\u001b[0m\u001b[0;34m(\u001b[0m\u001b[0;34m)\u001b[0m\u001b[0;34m\u001b[0m\u001b[0;34m\u001b[0m\u001b[0m\n\u001b[0m",
                        "\u001b[0;31mNameError\u001b[0m: name 'precipitation_df' is not defined"
                    ]
                }
            ],
            "source": "precipitation_df.head()"
        },
        {
            "cell_type": "code",
            "execution_count": null,
            "metadata": {
                "scrolled": true
            },
            "outputs": [],
            "source": "precipitation_df.tail()"
        },
        {
            "cell_type": "markdown",
            "metadata": {},
            "source": "Each row in the table lists:\n\n* The country or region where the measurements were taken\n* The annual precipitation for 1990, and for the years 1995 to 2009\n\nBy using the `DataFrame` API, you can list all countries or areas for which precipitation measurements exist. Run the following cell to list these countries:"
        },
        {
            "cell_type": "code",
            "execution_count": null,
            "metadata": {
                "scrolled": true
            },
            "outputs": [],
            "source": "precipitation_df['Country or Area'].values"
        },
        {
            "cell_type": "markdown",
            "metadata": {},
            "source": "Having the names of the countries or areas as a column comes in handy, but it would be more useful to have the names as an index to the rows. To manipulate the `DataFrame` in this way, run the next cell:"
        },
        {
            "cell_type": "code",
            "execution_count": null,
            "metadata": {},
            "outputs": [],
            "source": "precipitation_df = precipitation_df.set_index(precipitation_df[\"Country or Area\"])\nprecipitation_df.drop(['Country or Area'], axis=1, inplace=True)\nprecipitation_df.head()"
        },
        {
            "cell_type": "markdown",
            "metadata": {},
            "source": "<a id=\"plot_data\"></a> \n## 5. Plot the results\n\nWhen you work in notebooks, you can decide how to present your anlysis results and derived information. So far, you have used normal print functions, which are informative. However, you can also show your results in a visual way by using the popular [`matplotlib`](http://matplotlib.org/) package to create plots.\n\nFirst, render your results as inline charts:"
        },
        {
            "cell_type": "code",
            "execution_count": null,
            "metadata": {},
            "outputs": [],
            "source": "%matplotlib inline "
        },
        {
            "cell_type": "markdown",
            "metadata": {},
            "source": "Now use `pandas` wrappers around the `matplotlib` routines. Because you changed the index of the table rows, you can access the precipitation measurements of a country or area by name. For example, run the following cell to plot the annual precipitation of Germany:"
        },
        {
            "cell_type": "code",
            "execution_count": null,
            "metadata": {},
            "outputs": [],
            "source": "germany = precipitation_df.loc['Germany']\nax = germany.plot(kind='bar', figsize=(8,5), title=\"Precipitation of %s between 1990 to 2009\" % germany.name)\nax.set_ylabel(\"Precipitation (million cubic meters)\")\nax.set_xlabel(\"Years\");"
        },
        {
            "cell_type": "markdown",
            "metadata": {},
            "source": "Another possibility is to import the `matplotlib` library and use it directly for plotting the precipitation values in France:"
        },
        {
            "cell_type": "code",
            "execution_count": null,
            "metadata": {},
            "outputs": [],
            "source": "import matplotlib.pyplot as plt, numpy as np\n\nfrance = precipitation_df.loc['France']\nyears = france.index\nindex = np.arange(len(years))  \nplt.figure(figsize=(8,5))\nbar_width = 0.5\nplt.bar(index, france, bar_width, color='b')\nplt.xlabel(\"Year\")\nplt.ylabel(\"Precipitation (million cubic meters)\")\nplt.title(\"Precipitation of %s between 1990 to 2009\" % france.name, y=1.08)\nplt.xticks(index + bar_width, years, rotation=90)\nplt.show()"
        },
        {
            "cell_type": "markdown",
            "metadata": {},
            "source": "### Plot the countries or areas with the highest total precipitation\n\nTo get a list of the countries with the highest total precipitation, you have to compute the sum of all annual precipitation. You can do this by using the `pandas` `sum()` method. This method adds an  additional column called SUM, which contains the sums of the annual precipitation values to the `precipitation_df` DataFrame."
        },
        {
            "cell_type": "code",
            "execution_count": null,
            "metadata": {},
            "outputs": [],
            "source": "precipitation_df[\"SUM\"] = precipitation_df.sum(axis=1)"
        },
        {
            "cell_type": "markdown",
            "metadata": {},
            "source": "Next, sort the DataFrame by total precipitation and print the top five countries or areas with the highest total precipitation:"
        },
        {
            "cell_type": "code",
            "execution_count": null,
            "metadata": {},
            "outputs": [],
            "source": "precipitation_sorted_df = precipitation_df.sort_values(by=\"SUM\",ascending=False)\ntop5_sums = pd.Series(precipitation_sorted_df[\"SUM\"].head(5))\ntop5_sums"
        },
        {
            "cell_type": "markdown",
            "metadata": {},
            "source": "Now, plot the top five countries next to each another in a line graph for a better comparison of the recordings:"
        },
        {
            "cell_type": "code",
            "execution_count": null,
            "metadata": {},
            "outputs": [],
            "source": "top5_bars = precipitation_sorted_df[years][0:5].transpose()\nax = top5_bars.plot(figsize=(10,8), marker='o', linestyle='-', title=\"Top 5 Countries with highest Precipitation\")\nax.set_xlabel(\"Years\")\nax.set_ylabel(\"Precipitation (million cubic meters)\");"
        },
        {
            "cell_type": "markdown",
            "metadata": {},
            "source": "Finally, compare the annual precipitation for the top five countries. China has the highest annual precipitation, followed by Colombia. The line graph also shows that some values are missing, which makes comparing measurements difficult. \n\nTo show the total precipitation for the top five countries in relation to the total precipitation for all countries over the entire time period, use a pie chart. Run the next code cell to create a pie chart by using the `matplotlib` library:"
        },
        {
            "cell_type": "code",
            "execution_count": null,
            "metadata": {},
            "outputs": [],
            "source": "precipitation_sums = top5_sums\nother_sums = precipitation_sorted_df[\"SUM\"][5:].sum()\nprecipitation_sums[\"Other\"] = other_sums\n\nplt.axis('equal')\nplt.title(\"Annual precipitation percentage\",y=1.08)\nplt.pie(\n    precipitation_sums,\n    labels=precipitation_sums.index,\n    colors=['blue', 'green', 'red', 'turquoise', 'magenta','yellow'],\n    autopct=\"%1.2f%%\",\n    radius=1.25);"
        },
        {
            "cell_type": "markdown",
            "metadata": {},
            "source": "The pie chart shows you that nearly a quarter of the precipitation fell in China, and that more than  half of the precipitation fell in the five countries with the highest annual precipitation."
        },
        {
            "cell_type": "markdown",
            "metadata": {},
            "source": "###  Plot the countries with a negative annual precipitation trend\n\nGoing through each row in the DataFrame and looking at the figures is not a viable solution to determine trends. Plotting a bar chart for each country or area is possible, but inconvenient. \n\nOne way to determine trends in annual precipitation is to fit a line to the data points. Run the next code cell to create a bar chart showing the annual precipitation trend for Chile:"
        },
        {
            "cell_type": "code",
            "execution_count": null,
            "metadata": {},
            "outputs": [],
            "source": "chile = precipitation_sorted_df.loc['Chile'][:-1]\nyears = chile.index\nchile.plot(kind='bar', figsize=(8,5), title=\"Precipitation of %s between 1990 to 2009\" % chile.name)\nplt.xlabel(\"Year\")\nplt.ylabel(\"Precipitation (million cubic meters)\");"
        },
        {
            "cell_type": "markdown",
            "metadata": {},
            "source": "A line of best fit is a straight line that is the best approximation of the given set of data.\nThe `polyfit()` function fits a line through data points. Because the DataFrame you are using is two-dimentional, it returns two values, the slope and the intercept. To determine whether the trend is positive or negative, you need only the slope. And naturally, you have to exclude any data points that correpond to the value 0.0. \n\nRun the next cells to determine and line plot the trend for Chile:"
        },
        {
            "cell_type": "code",
            "execution_count": null,
            "metadata": {},
            "outputs": [],
            "source": "index = chile[chile>0.0].index\nfit = np.polyfit(index.astype('int'), chile[index].values,1)\nprint(\"slope: \" + str(fit[0]))"
        },
        {
            "cell_type": "code",
            "execution_count": null,
            "metadata": {},
            "outputs": [],
            "source": "plt.plot(index, chile[index],'.')\nplt.plot(index, fit[0]*index.astype('int') + fit[1], '-', color='red')\nplt.title(\"Precipitation Trend for Chile\")\nplt.xlabel(\"Year\")\nplt.ylabel(\"Precipitation (million cubic meters)\")\nplt.show()"
        },
        {
            "cell_type": "markdown",
            "metadata": {},
            "source": "For Chile, the line plot shows a positive trend in annual precipitation, despite the fact that during the last couple of years the annual precipitation decreased. \n\nThe next cells show you how to determine the precipitation trends for 91 countries.\nRun the next code cell to define the `compute_slope()` method to compute the slope of a fitted line  between given points:"
        },
        {
            "cell_type": "code",
            "execution_count": null,
            "metadata": {},
            "outputs": [],
            "source": "def compute_slope(row):\n    \"\"\" This method computes the slope of a fittet line for given data points. \n    For arguments containing less than two valid data points it returns a NaN.\"\"\"\n    slope = np.nan\n    years = row[row>0.0].index\n    if(len(years)>=2):\n        fit = np.polyfit(years.astype('int'), row[years].values,1)\n        slope = fit[0]\n    return slope"
        },
        {
            "cell_type": "markdown",
            "metadata": {},
            "source": "After defining the `compute_slope()` method, use the `pandas` `apply()` method to compute the slope for each row in the DataFrame and add the computed slope value to a new column called TREND:"
        },
        {
            "cell_type": "code",
            "execution_count": null,
            "metadata": {},
            "outputs": [],
            "source": "precipitation_df[\"TREND\"] = precipitation_sorted_df[years].apply(compute_slope, axis=1)\nprecipitation_df.head()"
        },
        {
            "cell_type": "markdown",
            "metadata": {},
            "source": "If the value is positive, the annual precipitation trend for the country is positive. If the value is negative, the annual precipitation trend is negative. Values near zero indicate a stable condition. \n\nTo determine the countries with a negative precipitation trend, find the rows in the DataFrame with a negative value in the TREND column:"
        },
        {
            "cell_type": "code",
            "execution_count": null,
            "metadata": {},
            "outputs": [],
            "source": "negative_trends = precipitation_df[precipitation_df[\"TREND\"]<0.0]\nnegative_trends.index"
        },
        {
            "cell_type": "markdown",
            "metadata": {},
            "source": "<a id=\"download\"></a>\n## 6. Download the notebook\n\nAfter you have finished your analysis, you can download the notebook and share your results with our users.\n\nTo download your note, click **File** and then **Download as** from the notebook menu bar. You can download your notebook to your local file system in various formats."
        },
        {
            "cell_type": "markdown",
            "metadata": {},
            "source": "<a id=\"summary\"></a>\n## Summary\n\nIn this sample, you learned the basic tools for working with notebooks. You learned how to use the preinstalled `pandas` library to explore and analyze precipitation data to gain insights about the distribution of precipitation in 91 countries and detect trends. You learned to use the `matplotlib` libraries to visualize your results in different ways, for example as bar charts, pie charts, and line graphs. "
        },
        {
            "cell_type": "markdown",
            "metadata": {},
            "source": "### Resources\n\n<a href=\"http://learnpythonthehardway.org/book/\" target=\"_blank\" rel=\"noopener no referrer\">Learn Python the Hard Way</a><br/> \n<a href=\"https://www.python.org/\" target=\"_blank\" rel=\"noopener no referrer\">Python Programming Language</a><br/> \n<a href=\"http://nbviewer.ipython.org/github/ipython/ipython/blob/2.x/examples/Notebook/Index.ipynb\" target=\"_blank\" rel=\"noopener no referrer\">IPython Notebook</a><br/> \n<a href=\"http://jupyter.readthedocs.org/en/latest/\" target=\"_blank\" rel=\"noopener no referrer\">Jupyter Notebook</a><br/> \n<a href=\"https://github.com/ipython/ipython/wiki/A-gallery-of-interesting-IPython-Notebooks\" target=\"_blank\" rel=\"noopener no referrer\">A gallery of interesting Notebooks</a><br/> \n\nCheck out these interesting tutorials on YouTube:\n\n<a href=\"https://www.youtube.com/watch?v=TSsSWuhBpmY\" target=\"_blank\" rel=\"noopener no referrer\">PyData 2015 - Introduction to Pandas</a>\n\n<a href=\"https://www.youtube.com/watch?v=wAwQ-noyB98\" target=\"_blank\" rel=\"noopener no referrer\">Matplotlib Python Tutorial</a>"
        },
        {
            "cell_type": "markdown",
            "metadata": {},
            "source": "### Author\nSven Hafeneger is a member of the Data Science Experience development team at IBM Analytics in Germany. He holds a M.Sc. in Bioinformatics and is passionate about data analysis, machine learning and the Python ecosystem for data science. "
        },
        {
            "cell_type": "markdown",
            "metadata": {
                "collapsed": true
            },
            "source": "Copyright \u00a9 2017, 2018 IBM. This notebook and its source code are released under the terms of the MIT License."
        },
        {
            "cell_type": "markdown",
            "metadata": {},
            "source": "<div style=\"background:#F5F7FA; height:110px; padding: 2em; font-size:14px;\">\n<span style=\"font-size:18px;color:#152935;\">Love this notebook? </span>\n<span style=\"font-size:15px;color:#152935;float:right;margin-right:40px;\">Don't have an account yet?</span><br>\n<span style=\"color:#5A6872;\">Share it with your colleagues and help them discover the power of Watson Studio!</span>\n<span style=\"border: 1px solid #3d70b2;padding:8px;float:right;margin-right:40px; color:#3d70b2;\"><a href=\"https://ibm.co/wsnotebooks\" target=\"_blank\" style=\"color: #3d70b2;text-decoration: none;\">Sign Up</a></span><br>\n</div>"
        },
        {
            "cell_type": "code",
            "execution_count": null,
            "metadata": {},
            "outputs": [],
            "source": ""
        }
    ],
    "metadata": {
        "kernelspec": {
            "display_name": "Python 3.9",
            "language": "python",
            "name": "python3"
        },
        "language_info": {
            "codemirror_mode": {
                "name": "ipython",
                "version": 3
            },
            "file_extension": ".py",
            "mimetype": "text/x-python",
            "name": "python",
            "nbconvert_exporter": "python",
            "pygments_lexer": "ipython3",
            "version": "3.9.12"
        }
    },
    "nbformat": 4,
    "nbformat_minor": 1
}